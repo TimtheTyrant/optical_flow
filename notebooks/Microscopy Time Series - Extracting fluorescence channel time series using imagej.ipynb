{
 "cells": [
  {
   "cell_type": "markdown",
   "metadata": {},
   "source": [
    "# TODO - Extracting fluorescence channel time series using imagej in python\n",
    "Tim Tyree<br>\n",
    "7.23.2020<br>"
   ]
  },
  {
   "cell_type": "code",
   "execution_count": 1,
   "metadata": {
    "ExecuteTime": {
     "end_time": "2020-07-24T00:09:15.795479Z",
     "start_time": "2020-07-24T00:09:15.627738Z"
    }
   },
   "outputs": [],
   "source": [
    "# !pip3 install pyimagej\n",
    "import imagej, imp, sys, os, re\n",
    "sys.path.append('//anaconda3/lib/python3.7/site-packages/jnius')\n",
    "import jnius"
   ]
  },
  {
   "cell_type": "code",
   "execution_count": 27,
   "metadata": {
    "ExecuteTime": {
     "end_time": "2020-07-24T00:08:07.073800Z",
     "start_time": "2020-07-24T00:08:06.530253Z"
    }
   },
   "outputs": [],
   "source": [
    "# jnius\n",
    "#  imp.find_module('jnius') returns\n",
    "   \n"
   ]
  },
  {
   "cell_type": "markdown",
   "metadata": {
    "ExecuteTime": {
     "end_time": "2020-07-23T20:21:18.605816Z",
     "start_time": "2020-07-23T20:21:18.593746Z"
    }
   },
   "source": [
    "__Gist of Minimum Valuable MVC GUI__\n",
    "- TODO: look over the ops and then the adv. ops imagej tutorial\n",
    "     - `https://github.com/imagej/pyimagej/blob/master/doc/tutorials/1-PyImageJ-Introduction.ipynb`\n",
    "     -  `https://nbviewer.jupyter.org/github/imagej/tutorials/blob/master/notebooks/1-Using-ImageJ/2-ImageJ-Ops.ipynb`\n",
    "     - `https://nbviewer.jupyter.org/github/imagej/tutorials/blob/master/notebooks/3-Advanced-Usage/3-Using-Special-Ops.ipynb`\n",
    "%classpath add mvn net.imagej imagej 2.0.0-rc-71\n",
    "ij = new net.imagej.ImageJ()\n",
    "ij.getVersion()\n",
    "- TODO: bring up the most relevant imagej python tutorial \n",
    "- TODO: fast pyqt5 boilerplate on selecting (i) a .tiff file I want to import or (ii) a .csv of cluster-center locations\n",
    "- TODO: animate a .tiff file in python\n",
    "- TODO: make quick/easy interface for tracing the center of a cluster along with an animating .tiff file.\n",
    "- TODO: class radial_group():\n",
    "- TODO: make a quick/easy gui for entering radii\n",
    "- TODO: add capacity for a preprocessing script\n",
    "\n",
    "__Image Preprocessing__\n",
    "don't give the gui user an interface for tuning/testing preprocessing functions.  That's left on the user.\n",
    "- TODO: copy whatever preprocessing functions I have written in python to lib\n",
    "- TODO: plot some 2D histograms with frequency of pixel intensity on the y-axis and time on the x-axis for (i) a cell aggregate, (ii) open space, (iii) a patch of free cells, and (iv) that same patch segmented to only consider the free cells and not the bulk space.\n",
    "- TODO: visualize and then make a model for some __stable measure__ of cell fluoresence.\n",
    "- TODO: save to .csv a 3-channel (near/mid/far) time series of ^that stable fluorescent measure.\n",
    "- TODO: repeat ^that for the aggregate in (i) Fig. 2 and (ii) 091019 (pde experiment \"new\").\n",
    "\n",
    "__Preprocessing the Time Series__\n",
    "- TODO: visualize each signal in time\n",
    "- TODO: visualize each signal with frequency on the yaxis and time on the xaxis.  \n",
    "- TODO: Input a time origin. Then, Select an interval before time origin as baseline.   \n",
    "- TODO: Consider normalizing each channel w.r.t. a pink noise 1/f at some reasonable baseline. \n",
    "- TODO: Consider replotting for some narrow band pass filtered time series that (i) detrends the data and (ii) removes high frequency noise \n",
    "- TODO: perhaps consider time averaging  \n",
    "\n",
    "__Analyzing the Time Series__\n",
    "- TODO: for a given interval (epoch) of time series, (i) compute the cross-correlation and (ii) print the apparent phase delay (as avg. ± uncert.)\n",
    "- TODO: consider computing the phase-locked and non-phase locked parts of ^that plot (each signal with frequency on the yaxis and time on the xaxis)\n",
    "- TODO: consider providing a phase synchronization measure of the aggregate driving neighboring cells\n",
    "- TODO: measure the granger causality between the channels\n",
    "- TODO: consider another voodoo measure a la mike x cohen"
   ]
  },
  {
   "cell_type": "code",
   "execution_count": 13,
   "metadata": {
    "ExecuteTime": {
     "end_time": "2020-07-24T00:12:07.759213Z",
     "start_time": "2020-07-24T00:12:07.753409Z"
    }
   },
   "outputs": [],
   "source": [
    "imagej.set_ij_env?\n",
    "# imagej.search_for_jars()\n",
    "\n",
    "# import imagej\n",
    "# ij.getVersion()"
   ]
  },
  {
   "cell_type": "code",
   "execution_count": 4,
   "metadata": {
    "ExecuteTime": {
     "end_time": "2020-07-24T00:10:07.667790Z",
     "start_time": "2020-07-24T00:10:07.654499Z"
    }
   },
   "outputs": [
    {
     "name": "stderr",
     "output_type": "stream",
     "text": [
      "The JVM is already running.\n"
     ]
    },
    {
     "ename": "NameError",
     "evalue": "name 'ij' is not defined",
     "output_type": "error",
     "traceback": [
      "\u001b[0;31m---------------------------------------------------------------------------\u001b[0m",
      "\u001b[0;31mNameError\u001b[0m                                 Traceback (most recent call last)",
      "\u001b[0;32m<ipython-input-4-6f6d912d56a0>\u001b[0m in \u001b[0;36m<module>\u001b[0;34m\u001b[0m\n\u001b[1;32m      1\u001b[0m \u001b[0;31m# ij = imagej.init('sc.fiji:fiji:2.0.0-pre-10')\u001b[0m\u001b[0;34m\u001b[0m\u001b[0;34m\u001b[0m\u001b[0;34m\u001b[0m\u001b[0m\n\u001b[0;32m----> 2\u001b[0;31m \u001b[0mij\u001b[0m \u001b[0;34m=\u001b[0m \u001b[0mimagej\u001b[0m\u001b[0;34m.\u001b[0m\u001b[0minit\u001b[0m\u001b[0;34m(\u001b[0m\u001b[0;34m'sc.fiji:fiji:2.0.0-pre-10'\u001b[0m\u001b[0;34m)\u001b[0m\u001b[0;34m\u001b[0m\u001b[0;34m\u001b[0m\u001b[0m\n\u001b[0m",
      "\u001b[0;32m//anaconda3/lib/python3.7/site-packages/imagej/imagej.py\u001b[0m in \u001b[0;36minit\u001b[0;34m(ij_dir_or_version_or_endpoint, headless, new_instance)\u001b[0m\n\u001b[1;32m     84\u001b[0m     \u001b[0;32mif\u001b[0m \u001b[0mjnius_config\u001b[0m\u001b[0;34m.\u001b[0m\u001b[0mvm_running\u001b[0m \u001b[0;32mand\u001b[0m \u001b[0;32mnot\u001b[0m \u001b[0mnew_instance\u001b[0m\u001b[0;34m:\u001b[0m\u001b[0;34m\u001b[0m\u001b[0;34m\u001b[0m\u001b[0m\n\u001b[1;32m     85\u001b[0m         \u001b[0m_logger\u001b[0m\u001b[0;34m.\u001b[0m\u001b[0mwarning\u001b[0m\u001b[0;34m(\u001b[0m\u001b[0;34m'The JVM is already running.'\u001b[0m\u001b[0;34m)\u001b[0m\u001b[0;34m\u001b[0m\u001b[0;34m\u001b[0m\u001b[0m\n\u001b[0;32m---> 86\u001b[0;31m         \u001b[0;32mreturn\u001b[0m \u001b[0mij\u001b[0m\u001b[0;34m\u001b[0m\u001b[0;34m\u001b[0m\u001b[0m\n\u001b[0m\u001b[1;32m     87\u001b[0m \u001b[0;34m\u001b[0m\u001b[0m\n\u001b[1;32m     88\u001b[0m     \u001b[0;32mif\u001b[0m \u001b[0;32mnot\u001b[0m \u001b[0mjnius_config\u001b[0m\u001b[0;34m.\u001b[0m\u001b[0mvm_running\u001b[0m\u001b[0;34m:\u001b[0m\u001b[0;34m\u001b[0m\u001b[0;34m\u001b[0m\u001b[0m\n",
      "\u001b[0;31mNameError\u001b[0m: name 'ij' is not defined"
     ]
    }
   ],
   "source": [
    "# ij = imagej.init('sc.fiji:fiji:2.0.0-pre-10')\n",
    "ij = imagej.init('sc.fiji:fiji:2.0.0-pre-10')"
   ]
  },
  {
   "cell_type": "code",
   "execution_count": 14,
   "metadata": {
    "ExecuteTime": {
     "end_time": "2020-07-23T23:39:19.009537Z",
     "start_time": "2020-07-23T23:39:17.705392Z"
    }
   },
   "outputs": [
    {
     "name": "stdout",
     "output_type": "stream",
     "text": [
      "Requirement already satisfied: pyjnius in /usr/local/lib/python3.8/site-packages (1.3.0)\n",
      "\u001b[31mERROR: Could not find a version that satisfies the requirement scijava (from versions: none)\u001b[0m\n",
      "\u001b[31mERROR: No matching distribution found for scijava\u001b[0m\n"
     ]
    }
   ],
   "source": [
    "!pip3 install pyjnius"
   ]
  },
  {
   "cell_type": "code",
   "execution_count": 15,
   "metadata": {
    "ExecuteTime": {
     "end_time": "2020-07-23T23:40:13.327164Z",
     "start_time": "2020-07-23T23:39:55.869100Z"
    }
   },
   "outputs": [
    {
     "name": "stdout",
     "output_type": "stream",
     "text": [
      "Collecting package metadata (current_repodata.json): done\n",
      "Solving environment: failed with initial frozen solve. Retrying with flexible solve.\n",
      "Collecting package metadata (repodata.json): done\n",
      "Solving environment: failed with initial frozen solve. Retrying with flexible solve.\n",
      "\n",
      "PackagesNotFoundError: The following packages are not available from current channels:\n",
      "\n",
      "  - scijava\n",
      "\n",
      "Current channels:\n",
      "\n",
      "  - https://conda.anaconda.org/conda-forge/osx-64\n",
      "  - https://conda.anaconda.org/conda-forge/noarch\n",
      "  - https://conda.anaconda.org/sean/osx-64\n",
      "  - https://conda.anaconda.org/sean/noarch\n",
      "  - https://repo.anaconda.com/pkgs/main/osx-64\n",
      "  - https://repo.anaconda.com/pkgs/main/noarch\n",
      "  - https://repo.anaconda.com/pkgs/r/osx-64\n",
      "  - https://repo.anaconda.com/pkgs/r/noarch\n",
      "\n",
      "To search for alternate channels that may provide the conda package you're\n",
      "looking for, navigate to\n",
      "\n",
      "    https://anaconda.org\n",
      "\n",
      "and use the search bar at the top of the page.\n",
      "\n",
      "\n"
     ]
    }
   ],
   "source": [
    "!conda install scijava"
   ]
  },
  {
   "cell_type": "code",
   "execution_count": 17,
   "metadata": {
    "ExecuteTime": {
     "end_time": "2020-07-23T23:40:20.209052Z",
     "start_time": "2020-07-23T23:40:18.888998Z"
    }
   },
   "outputs": [
    {
     "name": "stdout",
     "output_type": "stream",
     "text": [
      "Collecting scijava\n",
      "\u001b[31m  ERROR: Could not find a version that satisfies the requirement scijava (from versions: none)\u001b[0m\n",
      "\u001b[31mERROR: No matching distribution found for scijava\u001b[0m\n"
     ]
    }
   ],
   "source": [
    "!pip install scijava"
   ]
  },
  {
   "cell_type": "code",
   "execution_count": 12,
   "metadata": {
    "ExecuteTime": {
     "end_time": "2020-07-23T23:38:35.809076Z",
     "start_time": "2020-07-23T23:38:35.780079Z"
    }
   },
   "outputs": [
    {
     "name": "stderr",
     "output_type": "stream",
     "text": [
      "Unable to import scyjava: pyjnius JAR not found.\n"
     ]
    },
    {
     "ename": "ImportError",
     "evalue": "Unable to import scyjava dependency jnius.",
     "output_type": "error",
     "traceback": [
      "\u001b[0;31m---------------------------------------------------------------------------\u001b[0m",
      "\u001b[0;31mImportError\u001b[0m                               Traceback (most recent call last)",
      "\u001b[0;32m<ipython-input-12-0450791849aa>\u001b[0m in \u001b[0;36m<module>\u001b[0;34m\u001b[0m\n\u001b[1;32m      2\u001b[0m \u001b[0mscyjava_config\u001b[0m\u001b[0;34m.\u001b[0m\u001b[0madd_options\u001b[0m\u001b[0;34m(\u001b[0m\u001b[0;34m'-Xmx6g'\u001b[0m\u001b[0;34m)\u001b[0m\u001b[0;34m\u001b[0m\u001b[0;34m\u001b[0m\u001b[0m\n\u001b[1;32m      3\u001b[0m \u001b[0;32mimport\u001b[0m \u001b[0mimagej\u001b[0m\u001b[0;34m\u001b[0m\u001b[0;34m\u001b[0m\u001b[0m\n\u001b[0;32m----> 4\u001b[0;31m \u001b[0mij\u001b[0m \u001b[0;34m=\u001b[0m \u001b[0mimagej\u001b[0m\u001b[0;34m.\u001b[0m\u001b[0minit\u001b[0m\u001b[0;34m(\u001b[0m\u001b[0;34m)\u001b[0m\u001b[0;34m\u001b[0m\u001b[0;34m\u001b[0m\u001b[0m\n\u001b[0m",
      "\u001b[0;32m//anaconda3/lib/python3.7/site-packages/imagej/imagej.py\u001b[0m in \u001b[0;36minit\u001b[0;34m(ij_dir_or_version_or_endpoint, headless, new_instance)\u001b[0m\n\u001b[1;32m    124\u001b[0m \u001b[0;34m\u001b[0m\u001b[0m\n\u001b[1;32m    125\u001b[0m     \u001b[0;31m# Must import imglyb (not scyjava) to spin up the JVM now.\u001b[0m\u001b[0;34m\u001b[0m\u001b[0;34m\u001b[0m\u001b[0;34m\u001b[0m\u001b[0m\n\u001b[0;32m--> 126\u001b[0;31m     \u001b[0;32mimport\u001b[0m \u001b[0mimglyb\u001b[0m\u001b[0;34m\u001b[0m\u001b[0;34m\u001b[0m\u001b[0m\n\u001b[0m\u001b[1;32m    127\u001b[0m     \u001b[0;32mfrom\u001b[0m \u001b[0mjnius\u001b[0m \u001b[0;32mimport\u001b[0m \u001b[0mautoclass\u001b[0m\u001b[0;34m\u001b[0m\u001b[0;34m\u001b[0m\u001b[0m\n\u001b[1;32m    128\u001b[0m \u001b[0;34m\u001b[0m\u001b[0m\n",
      "\u001b[0;32m//anaconda3/lib/python3.7/site-packages/imglyb/__init__.py\u001b[0m in \u001b[0;36m<module>\u001b[0;34m\u001b[0m\n\u001b[1;32m     36\u001b[0m \u001b[0;34m\u001b[0m\u001b[0m\n\u001b[1;32m     37\u001b[0m \u001b[0;34m\u001b[0m\u001b[0m\n\u001b[0;32m---> 38\u001b[0;31m \u001b[0mconfig\u001b[0m \u001b[0;34m=\u001b[0m \u001b[0m_init_jvm_options\u001b[0m\u001b[0;34m(\u001b[0m\u001b[0;34m)\u001b[0m\u001b[0;34m\u001b[0m\u001b[0;34m\u001b[0m\u001b[0m\n\u001b[0m\u001b[1;32m     39\u001b[0m \u001b[0;34m\u001b[0m\u001b[0m\n\u001b[1;32m     40\u001b[0m \u001b[0;32mfrom\u001b[0m \u001b[0;34m.\u001b[0m\u001b[0mimglib_ndarray\u001b[0m \u001b[0;32mimport\u001b[0m \u001b[0mImgLibReferenceGuard\u001b[0m \u001b[0;32mas\u001b[0m \u001b[0m_ImgLibReferenceGuard\u001b[0m\u001b[0;34m\u001b[0m\u001b[0;34m\u001b[0m\u001b[0m\n",
      "\u001b[0;32m//anaconda3/lib/python3.7/site-packages/imglyb/__init__.py\u001b[0m in \u001b[0;36m_init_jvm_options\u001b[0;34m()\u001b[0m\n\u001b[1;32m     31\u001b[0m     \u001b[0mscyjava_config\u001b[0m\u001b[0;34m.\u001b[0m\u001b[0madd_endpoints\u001b[0m\u001b[0;34m(\u001b[0m\u001b[0mIMGLIB2_IMGLYB_ENDPOINT\u001b[0m\u001b[0;34m)\u001b[0m\u001b[0;34m\u001b[0m\u001b[0;34m\u001b[0m\u001b[0m\n\u001b[1;32m     32\u001b[0m \u001b[0;34m\u001b[0m\u001b[0m\n\u001b[0;32m---> 33\u001b[0;31m     \u001b[0;32mimport\u001b[0m \u001b[0mscyjava\u001b[0m\u001b[0;34m\u001b[0m\u001b[0;34m\u001b[0m\u001b[0m\n\u001b[0m\u001b[1;32m     34\u001b[0m \u001b[0;34m\u001b[0m\u001b[0m\n\u001b[1;32m     35\u001b[0m     \u001b[0;32mreturn\u001b[0m \u001b[0mjnius_config\u001b[0m\u001b[0;34m\u001b[0m\u001b[0;34m\u001b[0m\u001b[0m\n",
      "\u001b[0;32m//anaconda3/lib/python3.7/site-packages/scyjava/__init__.py\u001b[0m in \u001b[0;36m<module>\u001b[0;34m\u001b[0m\n\u001b[1;32m    140\u001b[0m \u001b[0mjnius\u001b[0m \u001b[0;34m=\u001b[0m \u001b[0m_init_jvm\u001b[0m\u001b[0;34m(\u001b[0m\u001b[0;34m)\u001b[0m\u001b[0;34m\u001b[0m\u001b[0;34m\u001b[0m\u001b[0m\n\u001b[1;32m    141\u001b[0m \u001b[0;32mif\u001b[0m \u001b[0mjnius\u001b[0m \u001b[0;32mis\u001b[0m \u001b[0;32mNone\u001b[0m\u001b[0;34m:\u001b[0m\u001b[0;34m\u001b[0m\u001b[0;34m\u001b[0m\u001b[0m\n\u001b[0;32m--> 142\u001b[0;31m     \u001b[0;32mraise\u001b[0m \u001b[0mImportError\u001b[0m\u001b[0;34m(\u001b[0m\u001b[0;34m'Unable to import scyjava dependency jnius.'\u001b[0m\u001b[0;34m)\u001b[0m\u001b[0;34m\u001b[0m\u001b[0;34m\u001b[0m\u001b[0m\n\u001b[0m\u001b[1;32m    143\u001b[0m \u001b[0;34m\u001b[0m\u001b[0m\n\u001b[1;32m    144\u001b[0m \u001b[0;32mfrom\u001b[0m \u001b[0;34m.\u001b[0m\u001b[0mconvert\u001b[0m \u001b[0;32mimport\u001b[0m \u001b[0misjava\u001b[0m\u001b[0;34m,\u001b[0m \u001b[0mjclass\u001b[0m\u001b[0;34m,\u001b[0m \u001b[0mto_java\u001b[0m\u001b[0;34m,\u001b[0m \u001b[0mto_python\u001b[0m\u001b[0;34m\u001b[0m\u001b[0;34m\u001b[0m\u001b[0m\n",
      "\u001b[0;31mImportError\u001b[0m: Unable to import scyjava dependency jnius."
     ]
    }
   ],
   "source": [
    "import scyjava_config\n",
    "scyjava_config.add_options('-Xmx6g')\n",
    "import imagej\n",
    "ij = imagej.init()"
   ]
  },
  {
   "cell_type": "code",
   "execution_count": null,
   "metadata": {},
   "outputs": [],
   "source": [
    "from skimage import io\n",
    "import numpy as np\n",
    "arr = io.imread('https://samples.fiji.sc/new-lenna.jpg')\n",
    "ij.py.show(arr)"
   ]
  }
 ],
 "metadata": {
  "kernelspec": {
   "display_name": "Python 3",
   "language": "python",
   "name": "python3"
  },
  "toc": {
   "base_numbering": 1,
   "nav_menu": {},
   "number_sections": false,
   "sideBar": false,
   "skip_h1_title": false,
   "title_cell": "Table of Contents",
   "title_sidebar": "Contents",
   "toc_cell": false,
   "toc_position": {},
   "toc_section_display": false,
   "toc_window_display": false
  },
  "varInspector": {
   "cols": {
    "lenName": 16,
    "lenType": 16,
    "lenVar": 40
   },
   "kernels_config": {
    "python": {
     "delete_cmd_postfix": "",
     "delete_cmd_prefix": "del ",
     "library": "var_list.py",
     "varRefreshCmd": "print(var_dic_list())"
    },
    "r": {
     "delete_cmd_postfix": ") ",
     "delete_cmd_prefix": "rm(",
     "library": "var_list.r",
     "varRefreshCmd": "cat(var_dic_list()) "
    }
   },
   "types_to_exclude": [
    "module",
    "function",
    "builtin_function_or_method",
    "instance",
    "_Feature"
   ],
   "window_display": false
  }
 },
 "nbformat": 4,
 "nbformat_minor": 2
}
